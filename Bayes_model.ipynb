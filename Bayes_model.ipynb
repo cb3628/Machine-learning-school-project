{
 "cells": [
  {
   "cell_type": "markdown",
   "id": "c1eb10cf",
   "metadata": {},
   "source": [
    "# Bayes Model\n",
    "# by Christine"
   ]
  },
  {
   "cell_type": "code",
   "execution_count": 3,
   "id": "d4c7b445",
   "metadata": {},
   "outputs": [
    {
     "name": "stdout",
     "output_type": "stream",
     "text": [
      "Collecting import-ipynb\n",
      "  Downloading import_ipynb-0.1.4-py3-none-any.whl (4.1 kB)\n",
      "Requirement already satisfied: nbformat in /opt/homebrew/lib/python3.10/site-packages (from import-ipynb) (5.7.0)\n",
      "Requirement already satisfied: IPython in /opt/homebrew/lib/python3.10/site-packages (from import-ipynb) (8.6.0)\n",
      "Requirement already satisfied: stack-data in /opt/homebrew/lib/python3.10/site-packages (from IPython->import-ipynb) (0.6.0)\n",
      "Requirement already satisfied: jedi>=0.16 in /opt/homebrew/lib/python3.10/site-packages (from IPython->import-ipynb) (0.18.1)\n",
      "Requirement already satisfied: decorator in /opt/homebrew/lib/python3.10/site-packages (from IPython->import-ipynb) (5.1.1)\n",
      "Requirement already satisfied: prompt-toolkit<3.1.0,>3.0.1 in /opt/homebrew/lib/python3.10/site-packages (from IPython->import-ipynb) (3.0.32)\n",
      "Requirement already satisfied: pygments>=2.4.0 in /opt/homebrew/lib/python3.10/site-packages (from IPython->import-ipynb) (2.13.0)\n",
      "Requirement already satisfied: backcall in /opt/homebrew/lib/python3.10/site-packages (from IPython->import-ipynb) (0.2.0)\n",
      "Requirement already satisfied: appnope in /opt/homebrew/lib/python3.10/site-packages (from IPython->import-ipynb) (0.1.3)\n",
      "Requirement already satisfied: pickleshare in /opt/homebrew/lib/python3.10/site-packages (from IPython->import-ipynb) (0.7.5)\n",
      "Requirement already satisfied: traitlets>=5 in /opt/homebrew/lib/python3.10/site-packages (from IPython->import-ipynb) (5.5.0)\n",
      "Requirement already satisfied: matplotlib-inline in /opt/homebrew/lib/python3.10/site-packages (from IPython->import-ipynb) (0.1.6)\n",
      "Requirement already satisfied: pexpect>4.3 in /opt/homebrew/lib/python3.10/site-packages (from IPython->import-ipynb) (4.8.0)\n",
      "Requirement already satisfied: fastjsonschema in /opt/homebrew/lib/python3.10/site-packages (from nbformat->import-ipynb) (2.16.2)\n",
      "Requirement already satisfied: jsonschema>=2.6 in /opt/homebrew/lib/python3.10/site-packages (from nbformat->import-ipynb) (4.17.0)\n",
      "Requirement already satisfied: jupyter-core in /opt/homebrew/lib/python3.10/site-packages (from nbformat->import-ipynb) (5.0.0)\n",
      "Requirement already satisfied: parso<0.9.0,>=0.8.0 in /opt/homebrew/lib/python3.10/site-packages (from jedi>=0.16->IPython->import-ipynb) (0.8.3)\n",
      "Requirement already satisfied: pyrsistent!=0.17.0,!=0.17.1,!=0.17.2,>=0.14.0 in /opt/homebrew/lib/python3.10/site-packages (from jsonschema>=2.6->nbformat->import-ipynb) (0.19.2)\n",
      "Requirement already satisfied: attrs>=17.4.0 in /opt/homebrew/lib/python3.10/site-packages (from jsonschema>=2.6->nbformat->import-ipynb) (22.1.0)\n",
      "Requirement already satisfied: ptyprocess>=0.5 in /opt/homebrew/lib/python3.10/site-packages (from pexpect>4.3->IPython->import-ipynb) (0.7.0)\n",
      "Requirement already satisfied: wcwidth in /opt/homebrew/lib/python3.10/site-packages (from prompt-toolkit<3.1.0,>3.0.1->IPython->import-ipynb) (0.2.5)\n",
      "Requirement already satisfied: platformdirs in /opt/homebrew/lib/python3.10/site-packages (from jupyter-core->nbformat->import-ipynb) (2.5.3)\n",
      "Requirement already satisfied: pure-eval in /opt/homebrew/lib/python3.10/site-packages (from stack-data->IPython->import-ipynb) (0.2.2)\n",
      "Requirement already satisfied: executing>=1.2.0 in /opt/homebrew/lib/python3.10/site-packages (from stack-data->IPython->import-ipynb) (1.2.0)\n",
      "Requirement already satisfied: asttokens>=2.1.0 in /opt/homebrew/lib/python3.10/site-packages (from stack-data->IPython->import-ipynb) (2.1.0)\n",
      "Requirement already satisfied: six in /opt/homebrew/lib/python3.10/site-packages (from asttokens>=2.1.0->stack-data->IPython->import-ipynb) (1.16.0)\n",
      "Installing collected packages: import-ipynb\n",
      "Successfully installed import-ipynb-0.1.4\n"
     ]
    }
   ],
   "source": [
    "# install and import library used to pull in classes from another notebook\n",
    "!pip install import-ipynb\n",
    "import numpy as np\n",
    "import pandas as pd\n",
    "import os\n",
    "import earthpy as et\n",
    "import math\n",
    "import statistics\n",
    "from statistics import stdev\n"
   ]
  },
  {
   "cell_type": "code",
   "execution_count": 5,
   "id": "04c2a1d7",
   "metadata": {},
   "outputs": [],
   "source": [
    "import import_ipynb\n",
    "import Data_prep\n"
   ]
  },
  {
   "cell_type": "code",
   "execution_count": 7,
   "id": "a075d6e5",
   "metadata": {},
   "outputs": [
    {
     "name": "stdout",
     "output_type": "stream",
     "text": [
      "          raw_row_number        date        county_name  district  \\\n",
      "0                      1  2009-07-01  Stanislaus County   Modesto   \n",
      "1                      2  2009-07-01  Stanislaus County   Modesto   \n",
      "2                      3  2009-07-01  Stanislaus County   Modesto   \n",
      "3                      4  2009-07-01  Stanislaus County   Modesto   \n",
      "4                      5  2009-07-01  Stanislaus County   Modesto   \n",
      "...                  ...         ...                ...       ...   \n",
      "31778510        31778511  2016-06-30      Madera County  Oakhurst   \n",
      "31778511        31778512  2016-06-30      Madera County  Oakhurst   \n",
      "31778512        31778513  2016-06-30      Madera County  Oakhurst   \n",
      "31778513        31778514  2016-06-30      Madera County  Oakhurst   \n",
      "31778514        31778515  2016-06-30      Madera County  Oakhurst   \n",
      "\n",
      "                    subject_race subject_sex            department_name  \\\n",
      "0                          other        male  California Highway Patrol   \n",
      "1                       hispanic      female  California Highway Patrol   \n",
      "2                       hispanic      female  California Highway Patrol   \n",
      "3                          white      female  California Highway Patrol   \n",
      "4                       hispanic        male  California Highway Patrol   \n",
      "...                          ...         ...                        ...   \n",
      "31778510                   white        male  California Highway Patrol   \n",
      "31778511  asian/pacific islander        male  California Highway Patrol   \n",
      "31778512                hispanic      female  California Highway Patrol   \n",
      "31778513                   white        male  California Highway Patrol   \n",
      "31778514                   white        male  California Highway Patrol   \n",
      "\n",
      "               type                  violation arrest_made  ...  \\\n",
      "0         vehicular  Motorist / Public Service         NaN  ...   \n",
      "1         vehicular      Moving Violation (VC)       False  ...   \n",
      "2         vehicular      Moving Violation (VC)       False  ...   \n",
      "3         vehicular      Moving Violation (VC)       False  ...   \n",
      "4         vehicular      Moving Violation (VC)       False  ...   \n",
      "...             ...                        ...         ...  ...   \n",
      "31778510  vehicular      Moving Violation (VC)       False  ...   \n",
      "31778511  vehicular      Moving Violation (VC)       False  ...   \n",
      "31778512  vehicular      Moving Violation (VC)       False  ...   \n",
      "31778513  vehicular      Moving Violation (VC)       False  ...   \n",
      "31778514  vehicular      Moving Violation (VC)       False  ...   \n",
      "\n",
      "         warning_issued  outcome contraband_found frisk_performed  \\\n",
      "0                   NaN      NaN              NaN             NaN   \n",
      "1                 False  summons              NaN             NaN   \n",
      "2                 False  summons              NaN             NaN   \n",
      "3                 False  summons              NaN             NaN   \n",
      "4                 False  summons              NaN             NaN   \n",
      "...                 ...      ...              ...             ...   \n",
      "31778510           True  warning              NaN             NaN   \n",
      "31778511           True  warning              NaN             NaN   \n",
      "31778512           True  warning              NaN             NaN   \n",
      "31778513           True  warning              NaN             NaN   \n",
      "31778514           True  warning              NaN             NaN   \n",
      "\n",
      "         search_conducted  search_person search_basis  \\\n",
      "0                   False          False          NaN   \n",
      "1                   False          False          NaN   \n",
      "2                    True            NaN        other   \n",
      "3                   False          False          NaN   \n",
      "4                    True            NaN        other   \n",
      "...                   ...            ...          ...   \n",
      "31778510            False          False          NaN   \n",
      "31778511            False          False          NaN   \n",
      "31778512            False          False          NaN   \n",
      "31778513            False          False          NaN   \n",
      "31778514            False          False          NaN   \n",
      "\n",
      "                    reason_for_stop     raw_race           raw_search_basis  \n",
      "0         Motorist / Public Service        Other          Vehicle Inventory  \n",
      "1             Moving Violation (VC)     Hispanic  Probable Cause (positive)  \n",
      "2             Moving Violation (VC)     Hispanic  Probable Cause (positive)  \n",
      "3             Moving Violation (VC)        White  Probable Cause (positive)  \n",
      "4             Moving Violation (VC)     Hispanic  Probable Cause (positive)  \n",
      "...                             ...          ...                        ...  \n",
      "31778510      Moving Violation (VC)        White  Probable Cause (positive)  \n",
      "31778511      Moving Violation (VC)  Other Asian  Probable Cause (positive)  \n",
      "31778512      Moving Violation (VC)     Hispanic  Probable Cause (positive)  \n",
      "31778513      Moving Violation (VC)        White  Probable Cause (positive)  \n",
      "31778514      Moving Violation (VC)        White  Probable Cause (positive)  \n",
      "\n",
      "[31778515 rows x 21 columns]\n"
     ]
    }
   ],
   "source": [
    "# getting our arrest data\n",
    "arrest_data_df = Data_prep.get_arrest_data()\n",
    "print(arrest_data_df)"
   ]
  },
  {
   "cell_type": "code",
   "execution_count": null,
   "id": "375f196b",
   "metadata": {},
   "outputs": [],
   "source": []
  }
 ],
 "metadata": {
  "kernelspec": {
   "display_name": "Python 3 (ipykernel)",
   "language": "python",
   "name": "python3"
  },
  "language_info": {
   "codemirror_mode": {
    "name": "ipython",
    "version": 3
   },
   "file_extension": ".py",
   "mimetype": "text/x-python",
   "name": "python",
   "nbconvert_exporter": "python",
   "pygments_lexer": "ipython3",
   "version": "3.10.8"
  }
 },
 "nbformat": 4,
 "nbformat_minor": 5
}
