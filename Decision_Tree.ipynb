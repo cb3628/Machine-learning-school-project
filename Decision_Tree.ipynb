{
 "cells": [
  {
   "cell_type": "markdown",
   "id": "f39b4ca9",
   "metadata": {},
   "source": [
    "# Decision Tree Model\n",
    "## By Sue Gerace"
   ]
  },
  {
   "cell_type": "code",
   "execution_count": 3,
   "id": "1585f7e8",
   "metadata": {},
   "outputs": [
    {
     "name": "stdout",
     "output_type": "stream",
     "text": [
      "Requirement already satisfied: import-ipynb in /opt/homebrew/lib/python3.10/site-packages (0.1.4)\n",
      "Requirement already satisfied: nbformat in /opt/homebrew/lib/python3.10/site-packages (from import-ipynb) (5.7.0)\n",
      "Requirement already satisfied: IPython in /opt/homebrew/lib/python3.10/site-packages (from import-ipynb) (8.6.0)\n",
      "Requirement already satisfied: matplotlib-inline in /opt/homebrew/lib/python3.10/site-packages (from IPython->import-ipynb) (0.1.6)\n",
      "Requirement already satisfied: prompt-toolkit<3.1.0,>3.0.1 in /opt/homebrew/lib/python3.10/site-packages (from IPython->import-ipynb) (3.0.32)\n",
      "Requirement already satisfied: stack-data in /opt/homebrew/lib/python3.10/site-packages (from IPython->import-ipynb) (0.6.0)\n",
      "Requirement already satisfied: appnope in /opt/homebrew/lib/python3.10/site-packages (from IPython->import-ipynb) (0.1.3)\n",
      "Requirement already satisfied: jedi>=0.16 in /opt/homebrew/lib/python3.10/site-packages (from IPython->import-ipynb) (0.18.1)\n",
      "Requirement already satisfied: pickleshare in /opt/homebrew/lib/python3.10/site-packages (from IPython->import-ipynb) (0.7.5)\n",
      "Requirement already satisfied: pygments>=2.4.0 in /opt/homebrew/lib/python3.10/site-packages (from IPython->import-ipynb) (2.13.0)\n",
      "Requirement already satisfied: backcall in /opt/homebrew/lib/python3.10/site-packages (from IPython->import-ipynb) (0.2.0)\n",
      "Requirement already satisfied: decorator in /opt/homebrew/lib/python3.10/site-packages (from IPython->import-ipynb) (5.1.1)\n",
      "Requirement already satisfied: traitlets>=5 in /opt/homebrew/lib/python3.10/site-packages (from IPython->import-ipynb) (5.5.0)\n",
      "Requirement already satisfied: pexpect>4.3 in /opt/homebrew/lib/python3.10/site-packages (from IPython->import-ipynb) (4.8.0)\n",
      "Requirement already satisfied: jsonschema>=2.6 in /opt/homebrew/lib/python3.10/site-packages (from nbformat->import-ipynb) (4.17.0)\n",
      "Requirement already satisfied: jupyter-core in /opt/homebrew/lib/python3.10/site-packages (from nbformat->import-ipynb) (5.0.0)\n",
      "Requirement already satisfied: fastjsonschema in /opt/homebrew/lib/python3.10/site-packages (from nbformat->import-ipynb) (2.16.2)\n",
      "Requirement already satisfied: parso<0.9.0,>=0.8.0 in /opt/homebrew/lib/python3.10/site-packages (from jedi>=0.16->IPython->import-ipynb) (0.8.3)\n",
      "Requirement already satisfied: attrs>=17.4.0 in /opt/homebrew/lib/python3.10/site-packages (from jsonschema>=2.6->nbformat->import-ipynb) (22.1.0)\n",
      "Requirement already satisfied: pyrsistent!=0.17.0,!=0.17.1,!=0.17.2,>=0.14.0 in /opt/homebrew/lib/python3.10/site-packages (from jsonschema>=2.6->nbformat->import-ipynb) (0.19.2)\n",
      "Requirement already satisfied: ptyprocess>=0.5 in /opt/homebrew/lib/python3.10/site-packages (from pexpect>4.3->IPython->import-ipynb) (0.7.0)\n",
      "Requirement already satisfied: wcwidth in /opt/homebrew/lib/python3.10/site-packages (from prompt-toolkit<3.1.0,>3.0.1->IPython->import-ipynb) (0.2.5)\n",
      "Requirement already satisfied: platformdirs in /opt/homebrew/lib/python3.10/site-packages (from jupyter-core->nbformat->import-ipynb) (2.5.3)\n",
      "Requirement already satisfied: asttokens>=2.1.0 in /opt/homebrew/lib/python3.10/site-packages (from stack-data->IPython->import-ipynb) (2.1.0)\n",
      "Requirement already satisfied: pure-eval in /opt/homebrew/lib/python3.10/site-packages (from stack-data->IPython->import-ipynb) (0.2.2)\n",
      "Requirement already satisfied: executing>=1.2.0 in /opt/homebrew/lib/python3.10/site-packages (from stack-data->IPython->import-ipynb) (1.2.0)\n",
      "Requirement already satisfied: six in /opt/homebrew/lib/python3.10/site-packages (from asttokens>=2.1.0->stack-data->IPython->import-ipynb) (1.16.0)\n"
     ]
    }
   ],
   "source": [
    "# install and import library used to pull in classes from another notebook\n",
    "!pip install import-ipynb\n",
    "import numpy as np\n",
    "import pandas as pd\n",
    "import os\n",
    "import earthpy as et\n",
    "import math\n",
    "import statistics\n",
    "from statistics import stdev\n",
    "\n",
    "import import_ipynb\n",
    "import Data_prep"
   ]
  },
  {
   "cell_type": "code",
   "execution_count": null,
   "id": "f439df66",
   "metadata": {},
   "outputs": [],
   "source": [
    "# getting our arrest data\n",
    "# before running code from Data\n",
    "arrest_data_df = Data_prep.get_arrest_data()\n",
    "print(arrest_data_df)"
   ]
  },
  {
   "cell_type": "code",
   "execution_count": null,
   "id": "aeb07609",
   "metadata": {},
   "outputs": [],
   "source": []
  }
 ],
 "metadata": {
  "kernelspec": {
   "display_name": "Python 3 (ipykernel)",
   "language": "python",
   "name": "python3"
  },
  "language_info": {
   "codemirror_mode": {
    "name": "ipython",
    "version": 3
   },
   "file_extension": ".py",
   "mimetype": "text/x-python",
   "name": "python",
   "nbconvert_exporter": "python",
   "pygments_lexer": "ipython3",
   "version": "3.10.8"
  }
 },
 "nbformat": 4,
 "nbformat_minor": 5
}
