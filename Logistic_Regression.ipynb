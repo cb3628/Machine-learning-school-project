{
 "cells": [
  {
   "cell_type": "markdown",
   "id": "0d8679d7",
   "metadata": {},
   "source": [
    "# Logistic Regression Model\n",
    "## By Steven Portley"
   ]
  },
  {
   "cell_type": "code",
   "execution_count": 24,
   "id": "e3984570",
   "metadata": {},
   "outputs": [
    {
     "name": "stdout",
     "output_type": "stream",
     "text": [
      "Accuracy: 0.6071752129008878\n"
     ]
    }
   ],
   "source": [
    "import import_ipynb\n",
    "import Data_prep\n",
    "import numpy as np\n",
    "from sklearn.model_selection import train_test_split\n",
    "from sklearn.linear_model import LogisticRegression\n",
    "\n",
    "\n",
    "data = Data_prep.getPreprocessedArrestData()\n",
    "data = data.to_numpy()\n",
    "x=data[:,:-1]#all but last column\n",
    "y=data[:,-1]#last column\n",
    "x_train, x_test, y_train, y_test = train_test_split(x, y, test_size = 0.3, random_state = 42)\n",
    "\n",
    "model = LogisticRegression(random_state=42, max_iter=1000).fit(x_train, y_train)\n",
    "print(\"Accuracy: \" + str(model.score(x_test, y_test)))\n"
   ]
  },
  {
   "cell_type": "code",
   "execution_count": 23,
   "id": "02d9a3fc",
   "metadata": {},
   "outputs": [
    {
     "name": "stdout",
     "output_type": "stream",
     "text": [
      "Accuracy: 0.6077187896358036\n"
     ]
    }
   ],
   "source": [
    "import import_ipynb\n",
    "import Data_prep\n",
    "import numpy as np\n",
    "from sklearn.model_selection import train_test_split\n",
    "from sklearn.linear_model import LogisticRegression\n",
    "\n",
    "\n",
    "data = Data_prep.getPreprocessedArrestDataWithoutRace()\n",
    "data = data.to_numpy()\n",
    "x=data[:,:-1]#all but last column\n",
    "y=data[:,-1]#last column\n",
    "x_train, x_test, y_train, y_test = train_test_split(x, y, test_size = 0.3, random_state = 42)\n",
    "\n",
    "model = LogisticRegression(random_state=42, max_iter=1000).fit(x_train, y_train)\n",
    "print(\"Accuracy: \" + str(model.score(x_test, y_test)))\n"
   ]
  }
 ],
 "metadata": {
  "kernelspec": {
   "display_name": "Python 3.10.8 64-bit",
   "language": "python",
   "name": "python3"
  },
  "language_info": {
   "codemirror_mode": {
    "name": "ipython",
    "version": 3
   },
   "file_extension": ".py",
   "mimetype": "text/x-python",
   "name": "python",
   "nbconvert_exporter": "python",
   "pygments_lexer": "ipython3",
   "version": "3.10.8"
  },
  "vscode": {
   "interpreter": {
    "hash": "b0fa6594d8f4cbf19f97940f81e996739fb7646882a419484c72d19e05852a7e"
   }
  }
 },
 "nbformat": 4,
 "nbformat_minor": 5
}
